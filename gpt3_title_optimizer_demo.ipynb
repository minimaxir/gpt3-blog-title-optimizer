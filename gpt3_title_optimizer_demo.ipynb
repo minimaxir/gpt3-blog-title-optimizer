{
 "cells": [
  {
   "cell_type": "markdown",
   "metadata": {},
   "source": [
    "# GPT-3 Blog Title Optimizer Demo\n",
    "\n",
    "Here's a demo of how to leverage GPT-3 to build a title optimizer, complete with many examples!\n",
    "\n",
    "For a walkthrough into what the code is doing, see [the walkthrough Notebook](gpt3_title_optimizer_walkthrough.ipynb).\n",
    "\n",
    "This notebook assumes you have a `OPENAI_API_KEY` specified in a `.env` file, e.g.\n",
    "\n",
    "```properties\n",
    "OPENAI_API_KEY=\"<FILL IN>\"\n",
    "FINETUNED_MODEL=\"<FILL IN>\"\n",
    "```"
   ]
  },
  {
   "cell_type": "code",
   "execution_count": 1,
   "metadata": {},
   "outputs": [],
   "source": [
    "import os\n",
    "import re\n",
    "from math import exp\n",
    "\n",
    "import openai\n",
    "import pandas as pd\n",
    "from IPython.display import display, HTML\n",
    "from dotenv import load_dotenv\n",
    "\n",
    "load_dotenv()\n",
    "\n",
    "assert os.getenv(\"OPENAI_API_KEY\"), \"No OPENAI_API_KEY defined in .env.\"\n",
    "assert os.getenv(\"FINETUNED_MODEL\"), \"No FINETUNED_MODEL defined in .env.\"\n",
    "\n",
    "openai.api_key = os.getenv(\"OPENAI_API_KEY\")\n"
   ]
  },
  {
   "cell_type": "code",
   "execution_count": 6,
   "metadata": {},
   "outputs": [],
   "source": [
    "def optimize_title(title_input, temperature=1.0):\n",
    "    base_prompt = \"Rewrite the following blog post title into six different titles but optimized for social media virality: {0}\\n\\n-\"\n",
    "    finetune_prompt = \"Title: {0} ->\"\n",
    "\n",
    "    r = openai.Completion.create(\n",
    "    model=\"text-davinci-002\",\n",
    "    prompt=base_prompt.format(title_input),\n",
    "    temperature=temperature,\n",
    "    max_tokens=256,\n",
    "    top_p=1,\n",
    "    frequency_penalty=0,\n",
    "    presence_penalty=0,\n",
    ")\n",
    "\n",
    "    gen_titles = re.split(r\" ?\\n-\", r[\"choices\"][0][\"text\"])\n",
    "\n",
    "    gen_titles = list(set(gen_titles + [title_input]))\n",
    "\n",
    "    ranked_titles = []\n",
    "\n",
    "    for gen_title in gen_titles:\n",
    "        r = openai.Completion.create(\n",
    "            model=os.getenv(\"FINETUNED_MODEL\"),\n",
    "            prompt=finetune_prompt.format(gen_title),\n",
    "            temperature=0,\n",
    "            max_tokens=1,\n",
    "            logprobs=1,\n",
    "        )\n",
    "\n",
    "        title_class = r[\"choices\"][0][\"text\"]\n",
    "        class_prob = exp(r[\"choices\"][0][\"logprobs\"][\"token_logprobs\"][0])\n",
    "        if title_class == \" bad\":\n",
    "            class_prob = 1.0 - class_prob\n",
    "\n",
    "        ranked_titles.append(\n",
    "            (\n",
    "                f\"<strong>{gen_title}</strong>\" if gen_title == title_input else gen_title,\n",
    "                class_prob,\n",
    "            )\n",
    "        )\n",
    "\n",
    "    df = pd.DataFrame(ranked_titles, columns=[\"Title\", \"Good Prob\"])\n",
    "    df = df.sort_values(by=\"Good Prob\", ascending=False)\n",
    "\n",
    "\n",
    "    display(\n",
    "        HTML(\n",
    "            df.to_html(\n",
    "                formatters={\"Good Prob\": lambda x: f\"{x:.1%}\"}, escape=False, index=False\n",
    "            )\n",
    "        )\n",
    "    )\n"
   ]
  },
  {
   "cell_type": "markdown",
   "metadata": {},
   "source": [
    "## Running My Blog Posts Through The Optimizer"
   ]
  },
  {
   "cell_type": "markdown",
   "metadata": {},
   "source": [
    "First up, the original name of the blog post about this project, **Creating a Blog Post Title Optimizer by Finetuning GPT-3 on Hacker News**:"
   ]
  },
  {
   "cell_type": "code",
   "execution_count": 10,
   "metadata": {},
   "outputs": [
    {
     "data": {
      "text/html": [
       "<table border=\"1\" class=\"dataframe\">\n",
       "  <thead>\n",
       "    <tr style=\"text-align: right;\">\n",
       "      <th>Title</th>\n",
       "      <th>Good Prob</th>\n",
       "    </tr>\n",
       "  </thead>\n",
       "  <tbody>\n",
       "    <tr>\n",
       "      <td>Optimize your Blog Post Titles for More Clicks with GPT-3</td>\n",
       "      <td>51.1%</td>\n",
       "    </tr>\n",
       "    <tr>\n",
       "      <td>GPT-3: The Key to Optimizing your Blog Post Titles</td>\n",
       "      <td>41.9%</td>\n",
       "    </tr>\n",
       "    <tr>\n",
       "      <td>How to Optimize your Blog Post Titles using GPT-3</td>\n",
       "      <td>29.9%</td>\n",
       "    </tr>\n",
       "    <tr>\n",
       "      <td>Get More Clicks: Use GPT-3 to Optimize your Blog Post Titles</td>\n",
       "      <td>23.3%</td>\n",
       "    </tr>\n",
       "    <tr>\n",
       "      <td>The Secret to Optimizing your Blog Post Titles? GPT-3</td>\n",
       "      <td>16.9%</td>\n",
       "    </tr>\n",
       "    <tr>\n",
       "      <td><strong>Creating a Blog Post Title Optimizer by Finetuning GPT-3 on Hacker News</strong></td>\n",
       "      <td>14.8%</td>\n",
       "    </tr>\n",
       "  </tbody>\n",
       "</table>"
      ],
      "text/plain": [
       "<IPython.core.display.HTML object>"
      ]
     },
     "metadata": {},
     "output_type": "display_data"
    }
   ],
   "source": [
    "optimize_title(\"Creating a Blog Post Title Optimizer by Finetuning GPT-3 on Hacker News\", temperature=0)"
   ]
  },
  {
   "cell_type": "markdown",
   "metadata": {},
   "source": [
    "If `temperature` is nonzero, then the generated titles will be unique each time you run it."
   ]
  },
  {
   "cell_type": "code",
   "execution_count": 11,
   "metadata": {},
   "outputs": [
    {
     "data": {
      "text/html": [
       "<table border=\"1\" class=\"dataframe\">\n",
       "  <thead>\n",
       "    <tr style=\"text-align: right;\">\n",
       "      <th>Title</th>\n",
       "      <th>Good Prob</th>\n",
       "    </tr>\n",
       "  </thead>\n",
       "  <tbody>\n",
       "    <tr>\n",
       "      <td>How to Create a Blog Post Title Optimizer</td>\n",
       "      <td>40.6%</td>\n",
       "    </tr>\n",
       "    <tr>\n",
       "      <td>Creating a Blog Post Title Optimizer with GPT-3</td>\n",
       "      <td>22.8%</td>\n",
       "    </tr>\n",
       "    <tr>\n",
       "      <td><strong>Creating a Blog Post Title Optimizer by Finetuning GPT-3 on Hacker News</strong></td>\n",
       "      <td>14.8%</td>\n",
       "    </tr>\n",
       "    <tr>\n",
       "      <td>Creating a Blog Post Title Optimizer for Free</td>\n",
       "      <td>14.3%</td>\n",
       "    </tr>\n",
       "    <tr>\n",
       "      <td>Creating a Blog Post Title Optimizer in Minutes</td>\n",
       "      <td>13.2%</td>\n",
       "    </tr>\n",
       "    <tr>\n",
       "      <td>Creating a Blog Post Title Optimizer without any Code</td>\n",
       "      <td>12.8%</td>\n",
       "    </tr>\n",
       "    <tr>\n",
       "      <td>Creating a Blog Post Title Optimizer with only 3 Lines of Code</td>\n",
       "      <td>9.5%</td>\n",
       "    </tr>\n",
       "  </tbody>\n",
       "</table>"
      ],
      "text/plain": [
       "<IPython.core.display.HTML object>"
      ]
     },
     "metadata": {},
     "output_type": "display_data"
    }
   ],
   "source": [
    "optimize_title(\"Creating a Blog Post Title Optimizer by Finetuning GPT-3 on Hacker News\", 0.7)"
   ]
  },
  {
   "cell_type": "code",
   "execution_count": 13,
   "metadata": {},
   "outputs": [
    {
     "data": {
      "text/html": [
       "<table border=\"1\" class=\"dataframe\">\n",
       "  <thead>\n",
       "    <tr style=\"text-align: right;\">\n",
       "      <th>Title</th>\n",
       "      <th>Good Prob</th>\n",
       "    </tr>\n",
       "  </thead>\n",
       "  <tbody>\n",
       "    <tr>\n",
       "      <td>The Best Way to Optimize Your Blog Post Titles</td>\n",
       "      <td>40.3%</td>\n",
       "    </tr>\n",
       "    <tr>\n",
       "      <td>How to Create a Blog Post Title Optimizer with GPT-3</td>\n",
       "      <td>32.0%</td>\n",
       "    </tr>\n",
       "    <tr>\n",
       "      <td>How to Optimize Your Blog Post Titles with GPT-3</td>\n",
       "      <td>25.5%</td>\n",
       "    </tr>\n",
       "    <tr>\n",
       "      <td>Get More Clicks: How to Optimize Your Blog Post Titles with GPT-3</td>\n",
       "      <td>23.8%</td>\n",
       "    </tr>\n",
       "    <tr>\n",
       "      <td><strong>Creating a Blog Post Title Optimizer by Finetuning GPT-3 on Hacker News</strong></td>\n",
       "      <td>14.8%</td>\n",
       "    </tr>\n",
       "    <tr>\n",
       "      <td>How to Optimize Your Blog Post Titles for Virality</td>\n",
       "      <td>13.9%</td>\n",
       "    </tr>\n",
       "  </tbody>\n",
       "</table>"
      ],
      "text/plain": [
       "<IPython.core.display.HTML object>"
      ]
     },
     "metadata": {},
     "output_type": "display_data"
    }
   ],
   "source": [
    "optimize_title(\"Creating a Blog Post Title Optimizer by Finetuning GPT-3 on Hacker News\", 1.0)"
   ]
  },
  {
   "cell_type": "markdown",
   "metadata": {},
   "source": [
    "Most of them have a low probability of being good, which in retrospect I probably should have checked before I wrote this post.\n",
    "\n",
    "From the third one I like `How to Create a Blog Post Title Optimizer with GPT-3` but it's important to incorporate Hacker News, so I'll test a variant of that."
   ]
  },
  {
   "cell_type": "code",
   "execution_count": 19,
   "metadata": {},
   "outputs": [
    {
     "data": {
      "text/html": [
       "<table border=\"1\" class=\"dataframe\">\n",
       "  <thead>\n",
       "    <tr style=\"text-align: right;\">\n",
       "      <th>Title</th>\n",
       "      <th>Good Prob</th>\n",
       "    </tr>\n",
       "  </thead>\n",
       "  <tbody>\n",
       "    <tr>\n",
       "      <td>GPT-3 and Hacker News Data: How to Optimize your Blog Post Title</td>\n",
       "      <td>41.8%</td>\n",
       "    </tr>\n",
       "    <tr>\n",
       "      <td>Blog Post Title Optimizer: GPT-3 and Hacker News Data</td>\n",
       "      <td>29.2%</td>\n",
       "    </tr>\n",
       "    <tr>\n",
       "      <td><strong>How to Create a Blog Post Title Optimizer with GPT-3 and Hacker News Data</strong></td>\n",
       "      <td>20.8%</td>\n",
       "    </tr>\n",
       "    <tr>\n",
       "      <td>The Best way to Optimize your Blog Post Title: GPT-3 and Hacker News</td>\n",
       "      <td>19.7%</td>\n",
       "    </tr>\n",
       "    <tr>\n",
       "      <td>Optimizing your Blog Post Title with GPT-3 and Hacker News Data</td>\n",
       "      <td>16.5%</td>\n",
       "    </tr>\n",
       "    <tr>\n",
       "      <td>How to Optimize your Blog Post Title for GPT-3 and Hacker News</td>\n",
       "      <td>16.0%</td>\n",
       "    </tr>\n",
       "    <tr>\n",
       "      <td>How to Use GPT-3 and Hacker News Data to Optimize your Blog Post Title</td>\n",
       "      <td>14.6%</td>\n",
       "    </tr>\n",
       "  </tbody>\n",
       "</table>"
      ],
      "text/plain": [
       "<IPython.core.display.HTML object>"
      ]
     },
     "metadata": {},
     "output_type": "display_data"
    }
   ],
   "source": [
    "optimize_title(\"How to Create a Blog Post Title Optimizer with GPT-3 and Hacker News Data\")"
   ]
  },
  {
   "cell_type": "markdown",
   "metadata": {},
   "source": [
    "There is a performance hit (32.0% to 20.8%) but it's important so I'll leave it, and the variants to that are not better.\n",
    "\n",
    "A few more demos:"
   ]
  },
  {
   "cell_type": "code",
   "execution_count": 20,
   "metadata": {},
   "outputs": [
    {
     "data": {
      "text/html": [
       "<table border=\"1\" class=\"dataframe\">\n",
       "  <thead>\n",
       "    <tr style=\"text-align: right;\">\n",
       "      <th>Title</th>\n",
       "      <th>Good Prob</th>\n",
       "    </tr>\n",
       "  </thead>\n",
       "  <tbody>\n",
       "    <tr>\n",
       "      <td>DALL-E 2's absurd AI-generated professional food photography</td>\n",
       "      <td>69.6%</td>\n",
       "    </tr>\n",
       "    <tr>\n",
       "      <td>See the professional food photography DALL-E 2's AI created</td>\n",
       "      <td>52.9%</td>\n",
       "    </tr>\n",
       "    <tr>\n",
       "      <td>DALL-E 2: Now with AI-generated professional food photography!</td>\n",
       "      <td>46.6%</td>\n",
       "    </tr>\n",
       "    <tr>\n",
       "      <td>Professional food photography gets even more absurd with DALL-E 2</td>\n",
       "      <td>41.3%</td>\n",
       "    </tr>\n",
       "    <tr>\n",
       "      <td>DALL-E 2's professional food photography, now with AI!</td>\n",
       "      <td>39.8%</td>\n",
       "    </tr>\n",
       "    <tr>\n",
       "      <td><strong>Absurd AI-Generated Professional Food Photography with DALL-E 2</strong></td>\n",
       "      <td>29.3%</td>\n",
       "    </tr>\n",
       "    <tr>\n",
       "      <td>The AI-generated professional food photography of DALL-E 2</td>\n",
       "      <td>27.0%</td>\n",
       "    </tr>\n",
       "  </tbody>\n",
       "</table>"
      ],
      "text/plain": [
       "<IPython.core.display.HTML object>"
      ]
     },
     "metadata": {},
     "output_type": "display_data"
    }
   ],
   "source": [
    "optimize_title(\"Absurd AI-Generated Professional Food Photography with DALL-E 2\")"
   ]
  },
  {
   "cell_type": "code",
   "execution_count": 21,
   "metadata": {},
   "outputs": [
    {
     "data": {
      "text/html": [
       "<table border=\"1\" class=\"dataframe\">\n",
       "  <thead>\n",
       "    <tr style=\"text-align: right;\">\n",
       "      <th>Title</th>\n",
       "      <th>Good Prob</th>\n",
       "    </tr>\n",
       "  </thead>\n",
       "  <tbody>\n",
       "    <tr>\n",
       "      <td>VQGAN and CLIP: How to Generate AI Art</td>\n",
       "      <td>58.9%</td>\n",
       "    </tr>\n",
       "    <tr>\n",
       "      <td>Design Your Own AI Art With VQGAN and CLIP</td>\n",
       "      <td>43.4%</td>\n",
       "    </tr>\n",
       "    <tr>\n",
       "      <td>How to Create AI Art Using VQGAN and CLIP</td>\n",
       "      <td>42.1%</td>\n",
       "    </tr>\n",
       "    <tr>\n",
       "      <td>Make Custom AI Art With VQGAN and CLIP</td>\n",
       "      <td>41.8%</td>\n",
       "    </tr>\n",
       "    <tr>\n",
       "      <td><strong>How to Generate Customized AI Art Using VQGAN and CLIP</strong></td>\n",
       "      <td>34.0%</td>\n",
       "    </tr>\n",
       "    <tr>\n",
       "      <td>Creating AI Art With VQGAN and CLIP</td>\n",
       "      <td>32.3%</td>\n",
       "    </tr>\n",
       "    <tr>\n",
       "      <td>How to Use VQGAN and CLIP for Custom AI Art</td>\n",
       "      <td>11.5%</td>\n",
       "    </tr>\n",
       "  </tbody>\n",
       "</table>"
      ],
      "text/plain": [
       "<IPython.core.display.HTML object>"
      ]
     },
     "metadata": {},
     "output_type": "display_data"
    }
   ],
   "source": [
    "optimize_title(\"How to Generate Customized AI Art Using VQGAN and CLIP\")"
   ]
  },
  {
   "cell_type": "code",
   "execution_count": 22,
   "metadata": {},
   "outputs": [
    {
     "data": {
      "text/html": [
       "<table border=\"1\" class=\"dataframe\">\n",
       "  <thead>\n",
       "    <tr style=\"text-align: right;\">\n",
       "      <th>Title</th>\n",
       "      <th>Good Prob</th>\n",
       "    </tr>\n",
       "  </thead>\n",
       "  <tbody>\n",
       "    <tr>\n",
       "      <td>The dark side of data science MOOCs</td>\n",
       "      <td>67.4%</td>\n",
       "    </tr>\n",
       "    <tr>\n",
       "      <td>What data science MOOCs don't tell you</td>\n",
       "      <td>33.6%</td>\n",
       "    </tr>\n",
       "    <tr>\n",
       "      <td>The 5 things data science MOOCs don't prepare you for</td>\n",
       "      <td>31.3%</td>\n",
       "    </tr>\n",
       "    <tr>\n",
       "      <td>5 Important things data science MOOCs don't teach you</td>\n",
       "      <td>17.7%</td>\n",
       "    </tr>\n",
       "    <tr>\n",
       "      <td><strong>Things About Real-World Data Science Not Discussed In MOOCs and Thought Pieces</strong></td>\n",
       "      <td>16.9%</td>\n",
       "    </tr>\n",
       "    <tr>\n",
       "      <td>5 things you won't learn about data science from online courses</td>\n",
       "      <td>13.7%</td>\n",
       "    </tr>\n",
       "    <tr>\n",
       "      <td>5 things data science thought pieces won't tell you</td>\n",
       "      <td>9.4%</td>\n",
       "    </tr>\n",
       "  </tbody>\n",
       "</table>"
      ],
      "text/plain": [
       "<IPython.core.display.HTML object>"
      ]
     },
     "metadata": {},
     "output_type": "display_data"
    }
   ],
   "source": [
    "optimize_title(\"Things About Real-World Data Science Not Discussed In MOOCs and Thought Pieces\")"
   ]
  },
  {
   "cell_type": "code",
   "execution_count": 23,
   "metadata": {},
   "outputs": [
    {
     "data": {
      "text/html": [
       "<table border=\"1\" class=\"dataframe\">\n",
       "  <thead>\n",
       "    <tr style=\"text-align: right;\">\n",
       "      <th>Title</th>\n",
       "      <th>Good Prob</th>\n",
       "    </tr>\n",
       "  </thead>\n",
       "  <tbody>\n",
       "    <tr>\n",
       "      <td>What one million NCAA basketball shots reveals about the game</td>\n",
       "      <td>82.2%</td>\n",
       "    </tr>\n",
       "    <tr>\n",
       "      <td>What patterns can be found in one million NCAA basketball shots?</td>\n",
       "      <td>79.5%</td>\n",
       "    </tr>\n",
       "    <tr>\n",
       "      <td>One million NCAA basketball shots analyzed: what we learned</td>\n",
       "      <td>76.7%</td>\n",
       "    </tr>\n",
       "    <tr>\n",
       "      <td>How studying one million NCAA basketball shots can change the way we see the game</td>\n",
       "      <td>75.1%</td>\n",
       "    </tr>\n",
       "    <tr>\n",
       "      <td>One million NCAA basketball shots: what do they tell us?</td>\n",
       "      <td>73.1%</td>\n",
       "    </tr>\n",
       "    <tr>\n",
       "      <td>One million NCAA basketball shots: the patterns and what they mean</td>\n",
       "      <td>68.1%</td>\n",
       "    </tr>\n",
       "    <tr>\n",
       "      <td><strong>Visualizing One Million NCAA Basketball Shots</strong></td>\n",
       "      <td>67.7%</td>\n",
       "    </tr>\n",
       "  </tbody>\n",
       "</table>"
      ],
      "text/plain": [
       "<IPython.core.display.HTML object>"
      ]
     },
     "metadata": {},
     "output_type": "display_data"
    }
   ],
   "source": [
    "optimize_title(\"Visualizing One Million NCAA Basketball Shots\")"
   ]
  },
  {
   "cell_type": "code",
   "execution_count": 24,
   "metadata": {},
   "outputs": [
    {
     "data": {
      "text/html": [
       "<table border=\"1\" class=\"dataframe\">\n",
       "  <thead>\n",
       "    <tr style=\"text-align: right;\">\n",
       "      <th>Title</th>\n",
       "      <th>Good Prob</th>\n",
       "    </tr>\n",
       "  </thead>\n",
       "  <tbody>\n",
       "    <tr>\n",
       "      <td><strong>Leaving Apple Inc.</strong></td>\n",
       "      <td>91.4%</td>\n",
       "    </tr>\n",
       "    <tr>\n",
       "      <td>A key player is leaving Apple Inc.</td>\n",
       "      <td>87.0%</td>\n",
       "    </tr>\n",
       "    <tr>\n",
       "      <td>Apple Inc. is losing a valuable employee</td>\n",
       "      <td>86.6%</td>\n",
       "    </tr>\n",
       "    <tr>\n",
       "      <td>Employee leaving Apple Inc. could mean big changes</td>\n",
       "      <td>73.5%</td>\n",
       "    </tr>\n",
       "    <tr>\n",
       "      <td>Apple Inc. in trouble as employee leaves</td>\n",
       "      <td>71.4%</td>\n",
       "    </tr>\n",
       "    <tr>\n",
       "      <td>Could this be the end of Apple Inc.? Employee leaves</td>\n",
       "      <td>68.1%</td>\n",
       "    </tr>\n",
       "    <tr>\n",
       "      <td>Apple Inc. suffers blow as employee leaves</td>\n",
       "      <td>55.7%</td>\n",
       "    </tr>\n",
       "  </tbody>\n",
       "</table>"
      ],
      "text/plain": [
       "<IPython.core.display.HTML object>"
      ]
     },
     "metadata": {},
     "output_type": "display_data"
    }
   ],
   "source": [
    "optimize_title(\"Leaving Apple Inc.\")"
   ]
  },
  {
   "cell_type": "code",
   "execution_count": 25,
   "metadata": {},
   "outputs": [
    {
     "data": {
      "text/html": [
       "<table border=\"1\" class=\"dataframe\">\n",
       "  <thead>\n",
       "    <tr style=\"text-align: right;\">\n",
       "      <th>Title</th>\n",
       "      <th>Good Prob</th>\n",
       "    </tr>\n",
       "  </thead>\n",
       "  <tbody>\n",
       "    <tr>\n",
       "      <td>Surprising Stats on Top Comments in Reddit Threads</td>\n",
       "      <td>44.9%</td>\n",
       "    </tr>\n",
       "    <tr>\n",
       "      <td>Incredible Stats on Top Comments in Reddit Threads</td>\n",
       "      <td>42.9%</td>\n",
       "    </tr>\n",
       "    <tr>\n",
       "      <td>Astonishing Facts About Top Comments in Reddit Threads</td>\n",
       "      <td>34.5%</td>\n",
       "    </tr>\n",
       "    <tr>\n",
       "      <td>What Percent of Top-Voted Comments in Reddit Threads Were 1st Comment?</td>\n",
       "      <td>33.4%</td>\n",
       "    </tr>\n",
       "    <tr>\n",
       "      <td><strong>What Percent of the Top-Voted Comments in Reddit Threads Were Also 1st Comment?</strong></td>\n",
       "      <td>29.8%</td>\n",
       "    </tr>\n",
       "    <tr>\n",
       "      <td>You Won't Believe How Many Top-Voted Comments in Reddit Threads Were 1st Comment</td>\n",
       "      <td>11.8%</td>\n",
       "    </tr>\n",
       "  </tbody>\n",
       "</table>"
      ],
      "text/plain": [
       "<IPython.core.display.HTML object>"
      ]
     },
     "metadata": {},
     "output_type": "display_data"
    }
   ],
   "source": [
    "optimize_title(\"What Percent of the Top-Voted Comments in Reddit Threads Were Also 1st Comment?\")"
   ]
  },
  {
   "cell_type": "code",
   "execution_count": 26,
   "metadata": {},
   "outputs": [
    {
     "data": {
      "text/html": [
       "<table border=\"1\" class=\"dataframe\">\n",
       "  <thead>\n",
       "    <tr style=\"text-align: right;\">\n",
       "      <th>Title</th>\n",
       "      <th>Good Prob</th>\n",
       "    </tr>\n",
       "  </thead>\n",
       "  <tbody>\n",
       "    <tr>\n",
       "      <td>How Movie Review Aggregator Ratings Impact Box Office Success</td>\n",
       "      <td>21.6%</td>\n",
       "    </tr>\n",
       "    <tr>\n",
       "      <td><strong>Movie Review Aggregator Ratings Have No Relationship with Box Office Success</strong></td>\n",
       "      <td>15.3%</td>\n",
       "    </tr>\n",
       "    <tr>\n",
       "      <td>Why Movie Review Aggregator Ratings Have No Relationship with Box Office Success</td>\n",
       "      <td>13.5%</td>\n",
       "    </tr>\n",
       "    <tr>\n",
       "      <td>The Real Truth About Movie Review Aggregator Ratings and Box Office Success</td>\n",
       "      <td>10.3%</td>\n",
       "    </tr>\n",
       "    <tr>\n",
       "      <td>Do Movie Review Aggregator Ratings Really Matter for Box Office Success?</td>\n",
       "      <td>7.3%</td>\n",
       "    </tr>\n",
       "    <tr>\n",
       "      <td>What Movie Review Aggregator Ratings Can Tell Us About Box Office Success</td>\n",
       "      <td>6.8%</td>\n",
       "    </tr>\n",
       "    <tr>\n",
       "      <td>Do Better Movie Review Aggregator Ratings Mean More Box Office Success?</td>\n",
       "      <td>3.6%</td>\n",
       "    </tr>\n",
       "  </tbody>\n",
       "</table>"
      ],
      "text/plain": [
       "<IPython.core.display.HTML object>"
      ]
     },
     "metadata": {},
     "output_type": "display_data"
    }
   ],
   "source": [
    "optimize_title(\"Movie Review Aggregator Ratings Have No Relationship with Box Office Success\")"
   ]
  },
  {
   "cell_type": "code",
   "execution_count": 27,
   "metadata": {},
   "outputs": [
    {
     "data": {
      "text/html": [
       "<table border=\"1\" class=\"dataframe\">\n",
       "  <thead>\n",
       "    <tr style=\"text-align: right;\">\n",
       "      <th>Title</th>\n",
       "      <th>Good Prob</th>\n",
       "    </tr>\n",
       "  </thead>\n",
       "  <tbody>\n",
       "    <tr>\n",
       "      <td><strong>How to Visualize New York City Using Taxi Location Data and ggplot2</strong></td>\n",
       "      <td>51.1%</td>\n",
       "    </tr>\n",
       "    <tr>\n",
       "      <td>See New York City Like Never Before With This Taxi Location Data Visualization</td>\n",
       "      <td>29.8%</td>\n",
       "    </tr>\n",
       "    <tr>\n",
       "      <td>How to Use Taxi Location Data and ggplot2 to Visualize New York City</td>\n",
       "      <td>23.4%</td>\n",
       "    </tr>\n",
       "    <tr>\n",
       "      <td>This ggplot2 Visualization of New York City Will Blow Your Mind</td>\n",
       "      <td>22.1%</td>\n",
       "    </tr>\n",
       "    <tr>\n",
       "      <td>A New Way to Look at New York City: Visualizing Taxi Location Data</td>\n",
       "      <td>17.1%</td>\n",
       "    </tr>\n",
       "    <tr>\n",
       "      <td>Here's How to Visualize New York City Using Taxi Location Data</td>\n",
       "      <td>17.0%</td>\n",
       "    </tr>\n",
       "    <tr>\n",
       "      <td>You Won't Believe What Taxi Location Data Reveals About New York City</td>\n",
       "      <td>12.6%</td>\n",
       "    </tr>\n",
       "  </tbody>\n",
       "</table>"
      ],
      "text/plain": [
       "<IPython.core.display.HTML object>"
      ]
     },
     "metadata": {},
     "output_type": "display_data"
    }
   ],
   "source": [
    "optimize_title(\"How to Visualize New York City Using Taxi Location Data and ggplot2\")"
   ]
  },
  {
   "cell_type": "code",
   "execution_count": 28,
   "metadata": {},
   "outputs": [
    {
     "data": {
      "text/html": [
       "<table border=\"1\" class=\"dataframe\">\n",
       "  <thead>\n",
       "    <tr style=\"text-align: right;\">\n",
       "      <th>Title</th>\n",
       "      <th>Good Prob</th>\n",
       "    </tr>\n",
       "  </thead>\n",
       "  <tbody>\n",
       "    <tr>\n",
       "      <td><strong>Why is the Most-Viewed Gaming Video on YouTube About Cars 2?</strong></td>\n",
       "      <td>34.7%</td>\n",
       "    </tr>\n",
       "    <tr>\n",
       "      <td>The Strange Case of the Most-Viewed Gaming Video on YouTube</td>\n",
       "      <td>32.7%</td>\n",
       "    </tr>\n",
       "    <tr>\n",
       "      <td>What do Cars 2 and Gamers Have in Common?</td>\n",
       "      <td>30.4%</td>\n",
       "    </tr>\n",
       "    <tr>\n",
       "      <td>The Most-Viewed Gaming Video on YouTube will Surprise You!</td>\n",
       "      <td>18.9%</td>\n",
       "    </tr>\n",
       "    <tr>\n",
       "      <td>Why the Gaming World is Obsessed with Cars 2</td>\n",
       "      <td>13.3%</td>\n",
       "    </tr>\n",
       "    <tr>\n",
       "      <td>Cars 2 is the Most-Viewed Gaming Video on YouTube- But Why?</td>\n",
       "      <td>12.4%</td>\n",
       "    </tr>\n",
       "  </tbody>\n",
       "</table>"
      ],
      "text/plain": [
       "<IPython.core.display.HTML object>"
      ]
     },
     "metadata": {},
     "output_type": "display_data"
    }
   ],
   "source": [
    "optimize_title(\"Why is the Most-Viewed Gaming Video on YouTube About Cars 2?\")"
   ]
  },
  {
   "cell_type": "code",
   "execution_count": 29,
   "metadata": {},
   "outputs": [
    {
     "data": {
      "text/html": [
       "<table border=\"1\" class=\"dataframe\">\n",
       "  <thead>\n",
       "    <tr style=\"text-align: right;\">\n",
       "      <th>Title</th>\n",
       "      <th>Good Prob</th>\n",
       "    </tr>\n",
       "  </thead>\n",
       "  <tbody>\n",
       "    <tr>\n",
       "      <td>How uninstalling a PC game can erase your hard drive</td>\n",
       "      <td>66.8%</td>\n",
       "    </tr>\n",
       "    <tr>\n",
       "      <td>Beware! Uninstalling this PC game deletes your hard drive</td>\n",
       "      <td>62.0%</td>\n",
       "    </tr>\n",
       "    <tr>\n",
       "      <td>Uninstalling a PC game and losing your entire hard drive</td>\n",
       "      <td>60.1%</td>\n",
       "    </tr>\n",
       "    <tr>\n",
       "      <td>When uninstalling a PC game erases your entire hard drive</td>\n",
       "      <td>59.1%</td>\n",
       "    </tr>\n",
       "    <tr>\n",
       "      <td>What happens when you uninstall a PC game? This.</td>\n",
       "      <td>47.0%</td>\n",
       "    </tr>\n",
       "    <tr>\n",
       "      <td><strong>When Uninstalling A PC Game Erases the Entire Hard Drive</strong></td>\n",
       "      <td>30.5%</td>\n",
       "    </tr>\n",
       "    <tr>\n",
       "      <td>Uninstalling PC game? Here's what you need to know about losing your data</td>\n",
       "      <td>10.4%</td>\n",
       "    </tr>\n",
       "  </tbody>\n",
       "</table>"
      ],
      "text/plain": [
       "<IPython.core.display.HTML object>"
      ]
     },
     "metadata": {},
     "output_type": "display_data"
    }
   ],
   "source": [
    "optimize_title(\"When Uninstalling A PC Game Erases the Entire Hard Drive\")"
   ]
  }
 ],
 "metadata": {
  "kernelspec": {
   "display_name": "Python 3.9.12 64-bit",
   "language": "python",
   "name": "python3"
  },
  "language_info": {
   "codemirror_mode": {
    "name": "ipython",
    "version": 3
   },
   "file_extension": ".py",
   "mimetype": "text/x-python",
   "name": "python",
   "nbconvert_exporter": "python",
   "pygments_lexer": "ipython3",
   "version": "3.9.12"
  },
  "orig_nbformat": 4,
  "vscode": {
   "interpreter": {
    "hash": "aee8b7b246df8f9039afb4144a1f6fd8d2ca17a180786b69acc140d282b71a49"
   }
  }
 },
 "nbformat": 4,
 "nbformat_minor": 2
}
