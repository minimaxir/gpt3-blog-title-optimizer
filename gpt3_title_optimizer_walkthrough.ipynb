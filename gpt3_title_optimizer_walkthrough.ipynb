{
 "cells": [
  {
   "cell_type": "markdown",
   "metadata": {},
   "source": [
    "# GPT-3 Blog Title Optimizer Walkthrough\n",
    "\n",
    "Here's an annotate code walkthrough of how to leverage GPT-3 to build a title optimized.\n",
    "\n",
    "This notebook assumes you have a `OPENAI_API_KEY` specified in a `.env` file, e.g.\n",
    "\n",
    "```properties\n",
    "OPENAI_API_KEY=\"<FILL IN>\"\n",
    "```"
   ]
  },
  {
   "cell_type": "code",
   "execution_count": 7,
   "metadata": {},
   "outputs": [],
   "source": [
    "import openai\n",
    "import os\n",
    "import re\n",
    "from dotenv import load_dotenv\n",
    "\n",
    "load_dotenv()\n",
    "\n",
    "assert os.getenv(\"OPENAI_API_KEY\"), \"No OPENAI_API_KEY defined in .env.\"\n",
    "\n",
    "openai.api_key = os.getenv(\"OPENAI_API_KEY\")"
   ]
  },
  {
   "cell_type": "code",
   "execution_count": 2,
   "metadata": {},
   "outputs": [],
   "source": [
    "base_prompt = \"Rewrite the following blog post title into six different titles but optimized for social media virality: {0}\\n\\n-\""
   ]
  },
  {
   "cell_type": "markdown",
   "metadata": {},
   "source": [
    "Ping OpenAI's Completion API, which returns JSON."
   ]
  },
  {
   "cell_type": "code",
   "execution_count": 6,
   "metadata": {},
   "outputs": [
    {
     "data": {
      "text/plain": [
       "<OpenAIObject text_completion id=cmpl-5evs5pVvjgOHGYFQBKl7MoSN3RCBZ at 0x10c799ea0> JSON: {\n",
       "  \"choices\": [\n",
       "    {\n",
       "      \"finish_reason\": \"stop\",\n",
       "      \"index\": 0,\n",
       "      \"logprobs\": null,\n",
       "      \"text\": \"DALL-E 2 creates absurd AI-generated professional food photography \\n-A new level of absurdity: AI-generated professional food photography with DALL-E 2 \\n-DALL-E 2: The AI that creates absurdly realistic professional food photography \\n-How DALL-E 2 creates absurd AI-generated professional food photography \\n-DALL-E 2: Creating absurd AI-generated professional food photography \\n-The absurd AI-generated professional food photography of DALL-E 2\"\n",
       "    }\n",
       "  ],\n",
       "  \"created\": 1660437261,\n",
       "  \"id\": \"cmpl-5evs5pVvjgOHGYFQBKl7MoSN3RCBZ\",\n",
       "  \"model\": \"text-davinci-002\",\n",
       "  \"object\": \"text_completion\",\n",
       "  \"usage\": {\n",
       "    \"completion_tokens\": 104,\n",
       "    \"prompt_tokens\": 37,\n",
       "    \"total_tokens\": 141\n",
       "  }\n",
       "}"
      ]
     },
     "execution_count": 6,
     "metadata": {},
     "output_type": "execute_result"
    }
   ],
   "source": [
    "title_input = \"Absurd AI-Generated Professional Food Photography with DALL-E 2\"\n",
    "\n",
    "r = openai.Completion.create(\n",
    "  model=\"text-davinci-002\",\n",
    "  prompt=base_prompt.format(title_input),\n",
    "  temperature=0, # deterministic output; should set to 0.7 or 1 elsewise\n",
    "  max_tokens=256, # fine for small titles but may need to bump\n",
    "  top_p=1,\n",
    "  frequency_penalty=0,\n",
    "  presence_penalty=0\n",
    ")\n",
    "\n",
    "r"
   ]
  },
  {
   "cell_type": "markdown",
   "metadata": {},
   "source": [
    "Extract and clean up the titles from the generated output. The biggest issue is that each title may or may not end with a space, so will have to a regular expression to account for that possibility instead of a straight `split(\\n-)`."
   ]
  },
  {
   "cell_type": "code",
   "execution_count": 9,
   "metadata": {},
   "outputs": [
    {
     "data": {
      "text/plain": [
       "['DALL-E 2 creates absurd AI-generated professional food photography',\n",
       " 'A new level of absurdity: AI-generated professional food photography with DALL-E 2',\n",
       " 'DALL-E 2: The AI that creates absurdly realistic professional food photography',\n",
       " 'How DALL-E 2 creates absurd AI-generated professional food photography',\n",
       " 'DALL-E 2: Creating absurd AI-generated professional food photography',\n",
       " 'The absurd AI-generated professional food photography of DALL-E 2']"
      ]
     },
     "execution_count": 9,
     "metadata": {},
     "output_type": "execute_result"
    }
   ],
   "source": [
    "gen_titles = re.split(r\" ?\\n-\", r[\"choices\"][0][\"text\"])\n",
    "gen_titles"
   ]
  },
  {
   "cell_type": "code",
   "execution_count": null,
   "metadata": {},
   "outputs": [],
   "source": []
  }
 ],
 "metadata": {
  "kernelspec": {
   "display_name": "Python 3.9.12 64-bit",
   "language": "python",
   "name": "python3"
  },
  "language_info": {
   "codemirror_mode": {
    "name": "ipython",
    "version": 3
   },
   "file_extension": ".py",
   "mimetype": "text/x-python",
   "name": "python",
   "nbconvert_exporter": "python",
   "pygments_lexer": "ipython3",
   "version": "3.9.12"
  },
  "orig_nbformat": 4,
  "vscode": {
   "interpreter": {
    "hash": "aee8b7b246df8f9039afb4144a1f6fd8d2ca17a180786b69acc140d282b71a49"
   }
  }
 },
 "nbformat": 4,
 "nbformat_minor": 2
}
